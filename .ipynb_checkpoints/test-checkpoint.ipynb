{
 "cells": [
  {
   "cell_type": "code",
   "execution_count": 1,
   "id": "89fc8e5b-8bd1-4fe9-b024-4912aac86fb0",
   "metadata": {},
   "outputs": [],
   "source": [
    "from PIL import Image\n",
    "from io import BytesIO\n",
    "import os\n",
    "\n",
    "# コンフィグ\n",
    "COMPRESS_QUALITY = 30 # 圧縮のクオリティ\n",
    "\n",
    "# JPEG形式とPNG形式の画像ファイルを用意\n",
    "jpeg_imgefile = 'jpeg_image.jpg'\n",
    "png_imgfile = 'png_image.png'\n",
    "\n",
    "#############################\n",
    "#     JPEG形式の圧縮処理     #\n",
    "#############################\n",
    "# ファイル名を取得\n",
    "file_name = os.path.splitext(os.path.basename(jpeg_imgefile))[0]\n",
    "with open(jpeg_imgefile, 'rb') as inputfile:\n",
    "    # バイナリモードファイルをPILイメージで取得\n",
    "    im = Image.open(inputfile)\n",
    "    # JPEG形式の圧縮を実行\n",
    "    im_io = BytesIO()\n",
    "    im.save(im_io, 'JPEG', quality = COMPRESS_QUALITY)\n",
    "with open('comp_' + file_name + '.jpg', mode='wb') as outputfile:\n",
    "    # 出力ファイル(comp_png_image.png)に書き込み\n",
    "    outputfile.write(im_io.getvalue())\n",
    "\n",
    "#############################\n",
    "#     PNG形式の圧縮処理      #\n",
    "#############################\n",
    "# ファイル名を取得\n",
    "file_name = os.path.splitext(os.path.basename(png_imgfile))[0]\n",
    "with open(png_imgfile, 'rb') as inputfile:\n",
    "    # バイナリモードファイルをPILイメージで取得\n",
    "    im = Image.open(inputfile)\n",
    "    # JPEG形式に変換して、圧縮を実行\n",
    "    im = im.convert('RGB')\n",
    "    im_io = BytesIO()\n",
    "    im.save(im_io, 'JPEG', quality = COMPRESS_QUALITY)\n",
    "with open('comp_' + file_name + '.jpg', mode='wb') as outputfile:\n",
    "    # 出力ファイル(comp_png_image.png)に書き込み\n",
    "    outputfile.write(im_io.getvalue())"
   ]
  },
  {
   "cell_type": "code",
   "execution_count": 27,
   "id": "35e2e7a5-8a79-4712-81dc-03d3c3c97da6",
   "metadata": {},
   "outputs": [
    {
     "name": "stdout",
     "output_type": "stream",
     "text": [
      "出力先のファイル'result'を作成しました。\n",
      "(3このファイルを圧縮します。)\n",
      "全ての画像圧縮が完了しました。\n"
     ]
    }
   ],
   "source": [
    "from PIL import Image\n",
    "from io import BytesIO\n",
    "import os\n",
    "\n",
    "newdir = r\"C:\\Users\\admin\\OneDrive\\ドキュメント\\MyStudy\\画像圧縮\\result\"\n",
    "if not os.path.exists(newdir):\n",
    "    os.makedirs(newdir)\n",
    "print(\"出力先のファイル'result'を作成しました。\")\n",
    "\n",
    "\n",
    "# コンフィグ\n",
    "COMPRESS_QUALITY = 10 # 圧縮のクオリティ(初期値75、0(低品質)~95(高品質)）\n",
    "\n",
    "# JPEG形式画像が入っているフォルダの中身を取得\n",
    "path = r\"C:\\Users\\admin\\OneDrive\\ドキュメント\\MyStudy\\画像圧縮\\imgfile\"\n",
    "files = os.listdir(path)\n",
    "print(f\"({len(files)}このファイルを圧縮します。)\")\n",
    "\n",
    "#############################\n",
    "#     JPEG形式の圧縮処理     #\n",
    "#############################\n",
    "# それぞれのファイルに対して\n",
    "# ファイル名を取得\n",
    "for i in range(len(files)):\n",
    "    file_name = os.path.splitext(os.path.basename(files[i]))[0]\n",
    "    with open(\"./imgfile/\" + files[i], 'rb') as inputfile:\n",
    "        # バイナリモードファイルをPILイメージで取得\n",
    "        im = Image.open(inputfile)\n",
    "        # JPEG形式の圧縮を実行\n",
    "        im_io = BytesIO()\n",
    "        im.save(im_io, 'JPEG', quality = COMPRESS_QUALITY)\n",
    "    with open(\"result/\" + 'comp_' + file_name + str(i) + '.jpg', mode='wb') as outputfile:\n",
    "        # 出力ファイル(comp_png_image.png)に書き込み\n",
    "        outputfile.write(im_io.getvalue())\n",
    "         \n",
    "resultfiles = os.listdir(newdir)\n",
    "if len(files) == len(resultfiles):\n",
    "    print(\"全ての画像圧縮が完了しました。\")\n",
    "else:\n",
    "    print(\"失敗\")"
   ]
  },
  {
   "cell_type": "code",
   "execution_count": 2,
   "id": "510e099f-7956-48a7-a61d-551f28d620ee",
   "metadata": {},
   "outputs": [
    {
     "name": "stdout",
     "output_type": "stream",
     "text": [
      "[]\n",
      "0\n"
     ]
    }
   ],
   "source": [
    "import os\n",
    "path = r\"C:\\Users\\admin\\OneDrive\\ドキュメント\\MyStudy\\imageCompression\\U\"\n",
    "files = os.listdir(path)\n",
    "print(files)\n",
    "print(len(files))"
   ]
  },
  {
   "cell_type": "code",
   "execution_count": 18,
   "id": "0e911d41-42cd-4be4-8e5b-4c6af1968025",
   "metadata": {},
   "outputs": [],
   "source": [
    "newdir = r\"C:\\Users\\admin\\OneDrive\\ドキュメント\\MyStudy\\画像圧縮\\result\"\n",
    "if not os.path.exists(newdir):\n",
    "    os.makedirs(newdir)"
   ]
  },
  {
   "cell_type": "code",
   "execution_count": 1,
   "id": "7d714057-5c18-49b1-af40-9f63c7805553",
   "metadata": {},
   "outputs": [
    {
     "name": "stdout",
     "output_type": "stream",
     "text": [
      "1\n"
     ]
    }
   ],
   "source": [
    "_ = 1\n",
    "print(_)"
   ]
  }
 ],
 "metadata": {
  "kernelspec": {
   "display_name": "Python 3 (ipykernel)",
   "language": "python",
   "name": "python3"
  },
  "language_info": {
   "codemirror_mode": {
    "name": "ipython",
    "version": 3
   },
   "file_extension": ".py",
   "mimetype": "text/x-python",
   "name": "python",
   "nbconvert_exporter": "python",
   "pygments_lexer": "ipython3",
   "version": "3.7.3"
  }
 },
 "nbformat": 4,
 "nbformat_minor": 5
}
